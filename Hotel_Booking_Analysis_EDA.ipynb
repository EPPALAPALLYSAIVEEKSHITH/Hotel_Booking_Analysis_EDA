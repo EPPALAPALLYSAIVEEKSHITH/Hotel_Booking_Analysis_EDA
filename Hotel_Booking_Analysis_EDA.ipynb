{
  "nbformat": 4,
  "nbformat_minor": 0,
  "metadata": {
    "colab": {
      "private_outputs": true,
      "provenance": [],
      "collapsed_sections": [
        "H0kj-8xxnORC",
        "bKJF3rekwFvQ",
        "oohRaQE2qCFb",
        "gIfDvo9L0UH2"
      ]
    },
    "kernelspec": {
      "name": "python3",
      "display_name": "Python 3"
    },
    "language_info": {
      "name": "python"
    }
  },
  "cells": [
    {
      "cell_type": "markdown",
      "source": [
        "# **Project Name**    - Hotel Booking Analysis EDA Using Python\n",
        "\n"
      ],
      "metadata": {
        "id": "vncDsAP0Gaoa"
      }
    },
    {
      "cell_type": "markdown",
      "source": [
        "##### **Project Type**    - EDA\n",
        "##### **Contribution**    - Individual"
      ],
      "metadata": {
        "id": "beRrZCGUAJYm"
      }
    },
    {
      "cell_type": "markdown",
      "source": [
        "# **![images.jpeg](data:image/jpeg;base64,/9j/4AAQSkZJRgABAQAAAQABAAD/2wCEAAoHCBYVEhgVFRIYGBgYFRIYEhgYEhIZEhESGBgZGhoVGBgcIy4lHB4rHxgYJjgmKy8xNTU1GiRIQDszPy40NTEBDAwMEA8QHxISHjQrJSsxMTQ0NDQ0NDQ0NDE0NDQxNDQ0NDQ0NDQ0NDQ0NDQ0NDQxNDQ0NDQ0NDQ0NDQ0NDE0Pf/AABEIALcBEwMBIgACEQEDEQH/xAAcAAABBQEBAQAAAAAAAAAAAAACAAMEBQYBBwj/xABFEAACAQIDBAcEBwcDAQkAAAABAgADEQQSIQUxQVEGEyJhcYGRMlKhsQcUYoKSwdEWIzNCouHwQ1NyFRckNGNzg8LS4v/EABkBAAMBAQEAAAAAAAAAAAAAAAABAgMEBf/EACcRAAICAgICAgIBBQAAAAAAAAABAhEDIRIxE0EEUSJhFCMycaHB/9oADAMBAAIRAxEAPwDSJHBAWHPLs7RMdZ1TAY6wrxroGSjVjbVZDetGWrznaNkid1scR5ViqbyXRp1Dupufut+kzkh9EwzO4z+I3jNL9WqW/hN+EykxGzK5qE9Q9udoql9BGUb7I1NJKSnAAKnKwKnkdDJCOOczbZqJKfdDFOOK684assXJgNCnO9XH7jnFcc4WIZ6vunRSjwtDFo+QEfqojSkpQJ2wlWIiGnOdUZLNpzzjsCKacXVyVlnQoi5AROqnOqkzKIiBK5AQeqnOq7pMZRBIhYETqojTkm0Vo+QEQ04JpSZacNo+TAr2pRl6MsWAjTqI+QUV3VRSbkHOchyCiWsK8AQp0HMcbhCvAeEDGmJkWoN8jtJNWRWmEns6F0S9lJmqCaumxG5j8JnOjyXcnkBNSlOZt7IyNLsbNd/ePwjdeq1vaPrJOTWDVTSEpSrszXG+jzT6QcW9BUqKM12ytczDp0uqe4vqf0npH0m4TNgXPulW9DPFBOv4sITx/kt2VlnJNUalel7+4PxGOL0wf3P6zMqscAmzw4/oFKX2aodMm9z+swh01b/bP4zMxSoO5siMxAuQqkkDnpJewjkxdHOugqIGVhwJtqD4w8EPoTnL7L0dOSP9Nvx/3jg6d/8Alt+P+89TxWwMNVHbw6H7glJjPo8wL7qZT/gzD4Q8OL6I8sjFDp6P9t/xj9YX7fr/ALb/AIh+sd2x9GNRSWw9QOOCNo3gGH6TH1+j+KS+bDPpvIW4+EawYmHlkaz9v19x/UfrF+3y+4/qv6zCth3G9HHijj8oDIRvBHiLR/xsYvNI346ep7tT1X9Z39vE92p6r+s8/E7aH8bGHmkb/wDbtPdf+n9Yj07T3X/pmAAjiUWOgVj4KSfhD+NjDzSN3+3a+6/wnR06T3X/AKZiV2dVOgpOf/bf9JLodH8S5suHqG/NCPnD+PjF5pGr/blPdf8Ap/WI9N091/6f1knYX0eB6BbE50qZjYKw0XhGcb9G7A/u64PIOuvqIvDjQ/LMa/bVPdqeo/WdfpqmU2R83C5W1vWUm0eh+Ko6mkXHNDf4b5n3BU2YEEbwQQR5GUsGNkvNM2R6aN7p+Ebbpm3un4TH5py8vwQ+heaZrf2xb3T6iKZG8UPBD6DzS+z3m86IM6DOGzoo435wxG2hiCEyPW3yKxkiudTIjmZSWzZdF70ZX2j3iaWm0zfR02Q+MvVaZezOcbJV9YFQxs1I3Uqb4SRmouyi6X0c+FqrzRvlPnoGfRm1mDIw5gifPGOTLVdeTMPiZ1/BepIvMqigVaEGjKtCDTuaM1I9F+iJr4qqpG+mp9CZvek/RujiadioRxrTdQA6NwN55x9Eb/8AfmHOk3wIntNSnmFpLRnJ/lZVbIZxSRKhBdQASNzW4yeI4KItuEXV8tJKiwbTAywGpA8I6AZ3WOgsinCod6D8IjVTZdFvapIfFBLACdCGFBZWpsmgN1FPwCJtk0T/AKSfgEs+rncndHxFZVjZFEf6SfgEcTAou6mo+6JYiR8Y4uuvOHEExrqF35R6CLQcI9hXuSOAjtWjxtCgsjLukZ6fa0kvJwnMndBqwTI7ppaVO1+j2HxK2q0lJ4OBZh5iXjKIFhEUYDE/Rthz7FR1+9f5xil9GlIe1Wc+AUflPQsgiyCO2KkYP/s3w3vv6xTcZBOxcmFIprzogXhAzhOkTboawG3QllITIuI3mRnQy16m+sbbDzJvZouiTsk2pjzlstSZd0I3EjzmN6Z7VxFF0FOs6gg3sd8cIc5UhSdKz13rdY1iKuk8VwvSbEdX2qzk8yZXY3pBiGa/XuBbcGsJovjyboprjHkeyY7EDKbsPUTxHpJStiXKkEMxItDG1Ht2ndtNbsZExNUNa3Cb4MTxyswyTUo0Qwhncpj4M6SJ08jKjV/RVVy7SUH+anUHidDPeFnzz0He20cOR75Hqpn0MsXsmQWWIrCE7AgDLFlhxQoAQsVp2cMAOGNMYbQN2sBnHe3jK/HVMuu+0k5rmVm1n7BPeJMnoqK2WeyzdS1t5k8yJsofuk71vJjSo9Eyexl14wSI6YJgA2R3RtkHKPGCYDsZKDlAKDlHyY2TFQ7AsOU5CzTsAMteEDG7zoM847BwQlgod/hCQxoTLLDJdZX7bxa0gtzYswA8OMuMBTJSYH6T2ZHpEPb2tPzkKPKVGmNcpcTUMoZcw1BnnX0jU7NTP/KbTouH+poXNyRceHCZP6SV/h+J+RmmHWShZY8biYgPZbRtdYJM7h21nfWjOUrjR0pOZY6xgZpKbM6QBWcMcvAMpMTRc9D/APx+H/8AVHyM+jVnz30AwLVdoUcoNkbO591QD+ZE+hRH7MpBCdnBFAg7OTsUYHILQoJiAbYxuodIZEDJzgMZIyrfjwlDt57U/EiXeJe5sJntuG5RebCQy0azZq2poPsL8pKaBh1soHIAfCG00M/YBgkwyYF4gBJgkwyYBMBgMYBMMmA0BgXnYooDMledBmX+rYtdz3neuxa8AZ53H9nYalWjlMzJrtTEg60tLi55DnNJh6l1B7hHVCZqtlN+78zM90s2AmKq0c5yjMQSPdte3wlvs+ramfOQ6hL11JGiKSviZk5OMrQRuLtEoYdVTIu5RYd45zzj6S6dlpn7R+Rnojq2a9t4mJ+kfCVHpoVRmytc2G4WMrE/6iHLaZ5cRBpHtCWFHZlZ/Yo1G8Kb29bSbhuh+OcjLhXHe1lHxM9MxZVNJOyNnNiay0UdFZgxGdsq9kXIuATewOlptdkfRniCyviGRUDAuinM7qDcpc2AvunoVPF9WuRaNNAoy2RAo5WsN0zclHsm2+jwjaGzXpVXpMAzJbMUzMmoB32HPlISUyxsqljyUEn0E+gsHXbOAvZDGxA9k3Ntx0lhgcCgLsKa3zsM2UXIGm+EZ2DddmP+iXYrUqVStUpsjuwC5hZurXuO7W89Dgqmlp3IZaM5O2dEKAVbunLNy+MZA5O5Y1mPuGdDX4EeUADMbYQgYzXxSJ7dRFvuzOo+cGB1hBaxE6GVgCGUqdxBBB7wRG61QKNCCYFIjVmAEzm02LVUCi5zAgc9ZdYpCVLZv08otiYG7Gqw7kuOHEyavRV1sv6V8ovvsLxMYV4LNLMwSYM6WglhEAoLThacJgMFo20Jo20BoGKctFAZkwpPCOJhXO5ZpMNsJx7dQfdWWFPZijmZxL48mbvPEx52c5BHMSTh9lkAA3PgJr0wij+WOikOU0j8Z+2Q86+iiwmAIFsp8zHk2ab3LDyGtpc5Yss0Xxooh5pFemCA4mOfVV90HxEbxO1sPTNnr01Ouhdb3G/8o7japFPMnaLWCnhZh7X+f2g444JyS6+tsJOervYxiKyU9CBe1woXW3PulfV2mxAsMpzDvI3ad+pPLdK/aWIZrM3Bm3ashF9/cDuHjK2ttAAKLjskm3C5tx8vjPEz/OyTk1B0v9lxjo1FHFsKvVntC1ybaqLX3+F/SQMTQNSq2XQAZjfiNNB36yqwu1QuZzZmbSxPZt38Tu3eskYbEs2dja5vx36jcJpD5clB8k32/wDCHCL5USaSFGBANwQdw4G8vMDUBAUfaLdxJv8AnMuMURy9BLbo/i81Ug2sEPdrdRK+L85ymoV2zozfHcYuX0WmKxiIbG5Pdaw8SZFO2UsbDUC4Fx2rb927S58o10kReyQBfW9v87pS4UdsD3rqfvdn5GenKbU6OaME42a+tUypm04b78ZDO0DwZPj+sf2m6imwBvuNu6UYsdRHkk09MmEU1su6WPUizEX4Bbm5ku8zWHF6iAe8vzlzXxjHSkmc+8dEHhxby075WOdrZM409EyYzpwrq1Nkcks+Qqw/d0wQTmOXdvvc8FPKStr06wF6mIfXcqdhB6anzmS2zhHfJZiShGXM+gsWbUH2jdhr3W1inK9NFRj7TN9sLZyU6QIYtnyubm4UlQMq+m86yy6pfdHpPL8K9amgy12Q3ZiFJC5ibnQWHla0t9ndMnQhMQgcX9tbBreFrH4eEI5I9Dljl2bY0FvfLf5R1NNIzhMWlRA6MGU+oPIjgY6Zqn9GTDLQGME+PpELwsKAdiOEaap3H0kgCcv5/KAEcVQeMTPHmYchBLd0B0MM45wS/fHGyngPIRtqK8recQwM0U71A5mKAGiyxZY5aK02oxsDLO2hGRzUvu05QbSBKxxmA3zJ7b2gzYunRynqilRnIawOUGwNu+2ku8fVZELBS5GuW+p8DMjjOkuHz3qU6lNxfUoWscpXW2trGcuabcWlo6sEaldX/wA/YzjsDhVzM1NQSSzs7OVViNbXb2tBuvu4S5rbTLKmQ2UJZldQQVsMpsRvtvHeOU882sq4g6Y9ONg1OsLeVpNXFvYE4ygzWsWCuATzC5bAzg4T8b3tnX8hRkkk7aLjaGLO8MoAB9lbctM1rk+Z3zP1qecuzHREZ7XI3ML3942JNt0l4vcEDq5P8yggM2643637+Er8TVzLlFtAVNrjvPqSR5ThxwqVs5vWiXsvEqGChn7WilG7Qb+U2468OIOlpcYDFB2IKqrZAeyoV2PZJLLuG87rXmRo4dw1gOBFrkXPDd3zc7NqBqd7XYKFLZGNQ3bcxAJOp493KbShcJKL3T0VBVNX0NdTcFmbKL5V0JLNxt4fmJM2NmSoTa4tYncCLg6Hjw0kSpVFNwerZnF8putkOh0XffvNt+6Qn2jdwC3Dc7AEEG/Hx+Mn4+OMXHVNdnVknJpr0bDFIjnKc19SLEWvbdu7pn3bKe/S1uct8ArPZr6WBJ0N78rb5m9olkxVUZCKaCn1bMlTIxCqCAwIDG5N9+s9GW9nLFdouttnEsitTZMoX95dSWAIGawUXO68raO1KQFlrIe8l1PpY/OcfahGlgBcKM1hmY6WFzqSeGu+SKeHVFLiiotbtZFUX+zpuvxlNuRUYRS2y22FhzVYvcZd1xexB3jUCXG0cctBCFtcDzvylbXx4w2HRR7bC55i+tz3zK43aKsbO/EkGx7Q52HOaylHFGl2c6i8k/0O4zaT1Dd2J5DgJWVKsknEUf8Ac8ipEjEq9RVU3DNYZdSfCcnmcns6OCiiPUc2ufKPPh0q0Ge4DIVzDiVbcw8Dp5iN9JSgrZaJJUKmpFgNAT475WYXEAZgCWJXULa1rjW503yuLatCuiy2LtCphnDo2ZDo68COR5HkZ6hhcQlSmrobqwuOfgRznkSVMveDrzHnNZ0L2gUrGgW7FVWejvJSols6eBUqw55Wm2GbUuLM8sU42bY9w9YBPffwjmXu9Zwjv9BOkwGiD4eME+ZjpTu9TF/mgioY1lPcPnBKf4Y4fIfEwT4E/KMY2f8ALQG07vnDfvNvCN+Av3mIAc3cYoWvMRRAaGKQDjLRw4uwm/JGNETbu1lw6rfezWA7uJ+UHDY1XAIPlynn/TfaRqYqwPZp5VHjvaS8FiipuD/Kp9ZzSyXJnUsNRX7PQFe++MYnAo47SKw+0oMqMHtO+hMtKOJ747T7Jpx6K2p0ewxOtBfK4jY6P4cbqQ9ZfGzSNVQiQ4RXopTf2VGN2LRFJ7U9QjEWJvdRcDTvAmC0uW528LC/6z04vwM8x6XD6rU3Eo9yhAJt3HkdZzZsd04ouLt7GcRjFTQnyAuT5CbXokqPgXcggOKgbWzZVJXQjdqCQZ5ocTTxALUmyvcZqbkL2vsOdGHIGx4azc7Bx+TAigbq4Q5lIIYFyW3Hxl4sKg7YpNtaI7YsBciXpkaM9g7v3sezbTgNO6RjgxUdTUqBrG4Y5gxHunQi3np6waeHMeSnaZSgm7o6FJpGwp4xAiomVtBuIyJbmPyAmb2rj1Z8tUkKWy8zkuSTZt/95FL2hpVY6XJHI6r6GKScmt9CjFIudi7HRCXBpuOz1eVAhF7kkjW53cecujhszotr2YsRbkN3xmPq7SdKZWmqk5kAGUKo7QvqBp2c0nU+kD0qgPVh0sMoDZWXSxAO4926dWOrWjHMpPdld0n2iTUdrEWuqaW1009PnMW2Jqsw/eEFr20XsqOG7kJttr4ehXuVq9WzdoBxxN+Rvvv6Snq7DrAdlkccLOvyOsma/JsUKSMz9YqEXFQkfaVZdbMxRUUy9s2Y5ctxxuCY1W2LVC/wXW1/5GKnjoRBai6mmMjdm1+ydPHlJkk10WnXsm16Ya99brb4WjKp+7D8tD/xPCPBWvuPpHkw5NB1yMWOewCt7xtDG/sia1oj0ACCvLUd17/mDO4Wu6VqNVNcmIplh9ghkY/hdvWSKWz6l9KZAIO+wO/S9/OP0cKiXz1FHcGufhJbp2i11Ru8Ptu/tLfzl1nFr33jS080xG3QturpM4uM1uC8gN5mt2P0roVgAtkfircJviyepMynj9xReEd3rAY8z6TlWsoGZ3UDmWAHrI9LaNNyRTdXI3hWBIHOw4TZtGSQ/wCC+ZgO3NvScOY7zaNO6r3wsdCL+6s4wP8AM1oy+K5aSJVxA4mQ5IaiydmSKU/1uKTzRfEsHxJzCHiMVYXvoASfKVD4jtix5SNtrF5aTm+8BR4n+wmkpUmyIR5SSMfj62d2Y8WJ9TLzZ9TNRzfYt5gzOVJb7Ee9JxyPzE5Mb2d+WOkXNKoQZZYPaPOU7Hsjwg0KnC+us1Oeja4bGCTkrBhrMVTxmWwvLfB48HjKUiHEu61DiJUY7DK65XQMOREsaOKvDdFcd8HFMSbRgNq7EQqwUWvu03HgZmsHXqISl/Z/kbVdN+XivPskbp6fisJbeJldt7GzMXUdrmos2nNbhW8eyd9826KMUtFN3sr6W1iujU2+6VI+Nvzkr/qtIj2ip+1TqAetrSlo1O3kcAHdxsT3X1B7jYye2FPtC1uNzKeNMFKh9cZSP+qn41gYjaKKLBwfAjWUuKxwXTf8ZU4nFFuMy8aRpyZoMRtYZLKRe44jh5x3DbRNRkREzOxCi5st/wBOcg9E8ClbrC6BgOrC3J0JzE7vATQph6GFPWgZLAi+Z238gxOv6x81F0S05D+0+h5qgMK5WoBYMB+7/wCJTgP8MzO06FfBUnath7sQvV1UqWTfbNcA8Stxoe8cdrhNsdYmZCCDx1vKvpXiA9AM1MPkbcbHRtCe0CN3OSppvY+LekZnZW1BVyj6yVfq8xHW5FzAjsZmYjNrxAGnOwk3C7Yr1VzUXdu0VIV1IBtewOXXfKyhsuhWYNSUU3yM7AM2VTopHZOm+9rfnD2d0br0iGw+JFrtdh2HQlct7Aknhx4Sqg+nv9g4yXZe0q9Rh28YyMN6ilnt95TYyuxVfEhrCpUcZgFKhQXJ3WA8ZaYANQQJUvUfViyq7LqfZuRqRrqecnYfEMzgChl7yFHkLazK2u6CzO4Wk7NeuaoUX7KsrOSN4IDEKPGXOGeiB2MNfvd018ySJb1cOSwqIzUnvvDXVid47XyNxImNxjoLV8KrqP50GU/h3fKHY6b6GvrRG5aK6N2Qbte2mqi2kYKM+pILcwjHXncgSTh9u4PcVdDyNMm3mtxJi7Xwp3VkHjcRUwaa7TKf6rVJ7L5L7zY3I8Ly/wBh0uoJc2d2Fmcls5W97b8oGg4cIz/1TDf7yfONNt/DKdHZzyVCAfyjXJOyWr9GmOLzd3dI9WqJmm2w1QjLTKKN1/aPpukkYo27RleW9B4mlZPrYiRHqRtKwYXB42PcYDvKqyejuedkfrYoUFg9f2hrIu3a/ZRed2PnoPlBQXYDmQJB2tWzVWtuHZHgNIZJfjRrgjcrIDmTtiv/ABF+yD6H+8r3Me2ZUtUt7yuPhf8AKZR7OrKriaUa0wYKC45QEf8AdDxg0Xm5xnKzkEeMlUahHGV9ZzmUf5eTL2BPAC3nEBcYPaXPwl3QxN+MwVKtdSR3yxobRKDUxqQnE3CuCLGRMTggRpIWFxlwOfAcu+T6dXjeVdkU0Zja3R9Km8a8+I85lsdsLEKCq1Tl5MDf1/tPUns3cfhIlSgDoQD6SHa6ZaafaPHKuwK973B+8f8A6xk7Bq8Tb73/AOZ63W2enAgeYkWps4HgD5iQ8kkWoRZneiWANGiwJuWqMdx3BVFvUH1lliVzb0uORUmx5ixnK/R2izFipDG1ytR1Jtu9lhI7bCC+zia6eGIZh6NcSG72yuK9EnCIqiwULck2Cka8dI3tGuyDsAM1iVU3sx00084wcDWX2cc3g6UH/wDiD8Y9QoNvqVFdgdGVMll5Wudb31ksaW9lW21z/qYNr80dgfl+cFNp0ALCliU3XsaZ3bt80aEcbGPZqfGnfygnfoekZ/DbcpouVaddtb9oJcn10klNuVT/AA8Lbkzm9vIAfOWrVk4Ux6xlqw4LbzhbXQuMfoYois7ZqjljwUCyr3AS5w1NwO0NORlctYjdG6mLYmxJ9YRTuxsscRs6g/t00vz3fKV9XYuF5ehvGGqkwC0qhW/s6+zcMNy+s4lCmu5B6RsmIGFILZIBHCMYt7DTiYqbRvFnS/K8SQwNnV+0w4H8pOaUeDezy2epNYMzyxp2FFI9zFLMhrC1NS3uqzee4fEyld7knviimUzqwdMBmiwz2qKftCciko2n0aZP4Z7jAwzajxiimxxDbH94PEAeclYt7Uz5/DSKKIPZCwq3Qnuh1tbeIvOxQ9D9lh9ZKsTLjZ20c+h3xRRkvom7QxYp0yePDvJmd2xj2CZFYqeyWI3lmAa1+VrRRSJNlwSKL6+3EmIY08zFFIo0HhWJ4wfrJvaKKCEIYk33xfWrjfrOxQAarYki1mN5aYHFF17W+KKJ9leiWRGWiiiYkdWNGKKVEGcnCYopRIozm4HyiiiY0OIY3ivZPhFFJGilpv2pc03uIopcewzf2nM8UUU1OY//2Q==)**"
      ],
      "metadata": {
        "id": "C7ebAxx7214l"
      }
    },
    {
      "cell_type": "markdown",
      "source": [
        "# **Project Summary -**"
      ],
      "metadata": {
        "id": "FJNUwmbgGyua"
      }
    },
    {
      "cell_type": "markdown",
      "source": [
        "The Hotel Booking Analysis, conducted through Python utilizing pandas, matplotlib, and seaborn libraries, commenced with the loading of a hotel booking dataset. A comprehensive overview of the data ensued, involving the examination of basic information, such as data types and summary statistics, and the identification of missing values. Subsequently, a series of visualizations were employed to glean insights into various facets of the data. These visualizations included the distribution of cancellations, a breakdown of booking patterns by hotel type, exploration of lead time distributions, examination of variable correlations via a heatmap, and the visualization of average daily rates across different hotel types. Furthermore, the analysis delved into the distribution of bookings by market segment, accounting for cancellation status. The integration of matplotlib and seaborn facilitated the creation of visually informative representations to elucidate underlying trends and patterns in the dataset. This preliminary analysis serves as a foundational step for understanding the dynamics of hotel booking data, offering potential directions for further exploration, refinement, and the application of advanced analytical techniques or machine learning models for predictive insights."
      ],
      "metadata": {
        "id": "F6v_1wHtG2nS"
      }
    },
    {
      "cell_type": "markdown",
      "source": [
        "# **GitHub Link -**"
      ],
      "metadata": {
        "id": "w6K7xa23Elo4"
      }
    },
    {
      "cell_type": "markdown",
      "source": [
        "Provide your GitHub Link here."
      ],
      "metadata": {
        "id": "h1o69JH3Eqqn"
      }
    },
    {
      "cell_type": "markdown",
      "source": [],
      "metadata": {
        "id": "WUgMrQdsu4F3"
      }
    },
    {
      "cell_type": "markdown",
      "source": [
        "# **Problem Statement**\n"
      ],
      "metadata": {
        "id": "yQaldy8SH6Dl"
      }
    },
    {
      "cell_type": "markdown",
      "source": [
        "The project seeks to address critical questions such as the distribution and determinants of booking cancellations, the popularity and characteristics of different hotel types, the impact of lead time on booking behaviour, and the correlation between various features within the dataset. Additionally, the analysis will explore market segmentation and its correlation with booking patterns, shedding light on customer preferences and behavior. By undertaking this investigation, the project aims to provide actionable insights to optimize hotel management strategies, enhance customer experiences, and contribute to data-driven decision-making within the hospitality sector."
      ],
      "metadata": {
        "id": "DpeJGUA3kjGy"
      }
    },
    {
      "cell_type": "markdown",
      "source": [
        "#### **Define Your Business Objective?**"
      ],
      "metadata": {
        "id": "PH-0ReGfmX4f"
      }
    },
    {
      "cell_type": "markdown",
      "source": [
        "Have you ever wondered when the best time of year to book a hotel room is? Or the optimal length of stay in order to get the best daily rate? What if you wanted to predict whether or not a hotel was likely to receive a disproportionately high number of special requests? This hotel booking dataset can help you explore those questions! This data set contains booking information for a city hotel and a resort hotel, and includes information such as when the booking was made, length of stay, the number of adults, children, and/or babies, and the number of available parking spaces, among other things. All personally identifying information has been removed from the data. Explore and analyse the data to discover important factors that govern the bookings."
      ],
      "metadata": {
        "id": "PhDvGCAqmjP1"
      }
    },
    {
      "cell_type": "markdown",
      "source": [
        "# **General Guidelines** : -  "
      ],
      "metadata": {
        "id": "mDgbUHAGgjLW"
      }
    },
    {
      "cell_type": "markdown",
      "source": [
        "1.   Well-structured, formatted, and commented code is required.\n",
        "2.   Exception Handling, Production Grade Code & Deployment Ready Code will be a plus. Those students will be awarded some additional credits.\n",
        "     \n",
        "     The additional credits will have advantages over other students during Star Student selection.\n",
        "       \n",
        "             [ Note: - Deployment Ready Code is defined as, the whole .ipynb notebook should be executable in one go\n",
        "                       without a single error logged. ]\n",
        "\n",
        "3.   Each and every logic should have proper comments.\n",
        "4. You may add as many number of charts you want. Make Sure for each and every chart the following format should be answered.\n",
        "        \n",
        "\n",
        "```\n",
        "# Chart visualization code\n",
        "```\n",
        "            \n",
        "\n",
        "*   Why did you pick the specific chart?\n",
        "*   What is/are the insight(s) found from the chart?\n",
        "* Will the gained insights help creating a positive business impact?\n",
        "Are there any insights that lead to negative growth? Justify with specific reason.\n",
        "\n",
        "5. You have to create at least 20 logical & meaningful charts having important insights.\n",
        "\n",
        "\n",
        "[ Hints : - Do the Vizualization in  a structured way while following \"UBM\" Rule.\n",
        "\n",
        "U - Univariate Analysis,\n",
        "\n",
        "B - Bivariate Analysis (Numerical - Categorical, Numerical - Numerical, Categorical - Categorical)\n",
        "\n",
        "M - Multivariate Analysis\n",
        " ]\n",
        "\n",
        "\n",
        "\n"
      ],
      "metadata": {
        "id": "ZrxVaUj-hHfC"
      }
    },
    {
      "cell_type": "markdown",
      "source": [
        "# ***Let's Begin !***"
      ],
      "metadata": {
        "id": "O_i_v8NEhb9l"
      }
    },
    {
      "cell_type": "markdown",
      "source": [
        "## ***1. Know Your Data***"
      ],
      "metadata": {
        "id": "HhfV-JJviCcP"
      }
    },
    {
      "cell_type": "markdown",
      "source": [
        "### Import Libraries"
      ],
      "metadata": {
        "id": "Y3lxredqlCYt"
      }
    },
    {
      "cell_type": "code",
      "source": [
        "# Import Libraries\n",
        "import numpy as np\n",
        "import pandas as pd\n",
        "from numpy import math\n",
        "from numpy import loadtxt\n",
        "import seaborn as sns\n",
        "import matplotlib.pyplot as plt"
      ],
      "metadata": {
        "id": "M8Vqi-pPk-HR"
      },
      "execution_count": null,
      "outputs": []
    },
    {
      "cell_type": "markdown",
      "source": [
        "### Dataset Loading"
      ],
      "metadata": {
        "id": "3RnN4peoiCZX"
      }
    },
    {
      "cell_type": "code",
      "source": [
        "from google.colab import drive\n",
        "drive.mount('/content/drive')"
      ],
      "metadata": {
        "id": "Nw1YxJ7RRlvi"
      },
      "execution_count": null,
      "outputs": []
    },
    {
      "cell_type": "code",
      "source": [
        "# Load Dataset\n",
        "hotel_df=pd.read_csv('/content/drive/MyDrive/Almabetter_EDA/Hotel Bookings (1).csv')"
      ],
      "metadata": {
        "id": "4CkvbW_SlZ_R"
      },
      "execution_count": null,
      "outputs": []
    },
    {
      "cell_type": "markdown",
      "source": [
        "### Dataset First View"
      ],
      "metadata": {
        "id": "x71ZqKXriCWQ"
      }
    },
    {
      "cell_type": "code",
      "source": [
        "# Dataset First Look\n",
        "hotel_df.head()"
      ],
      "metadata": {
        "id": "LWNFOSvLl09H"
      },
      "execution_count": null,
      "outputs": []
    },
    {
      "cell_type": "markdown",
      "source": [
        "### Dataset Rows & Columns count"
      ],
      "metadata": {
        "id": "7hBIi_osiCS2"
      }
    },
    {
      "cell_type": "code",
      "source": [
        "# Dataset Rows & Columns count\n",
        "hotel_df.shape"
      ],
      "metadata": {
        "id": "Kllu7SJgmLij"
      },
      "execution_count": null,
      "outputs": []
    },
    {
      "cell_type": "markdown",
      "source": [
        "### Dataset Information"
      ],
      "metadata": {
        "id": "JlHwYmJAmNHm"
      }
    },
    {
      "cell_type": "code",
      "source": [
        "# Dataset Info\n",
        "hotel_df.info()"
      ],
      "metadata": {
        "id": "e9hRXRi6meOf"
      },
      "execution_count": null,
      "outputs": []
    },
    {
      "cell_type": "markdown",
      "source": [
        "#### Duplicate Values"
      ],
      "metadata": {
        "id": "35m5QtbWiB9F"
      }
    },
    {
      "cell_type": "code",
      "source": [
        "# Dataset Duplicate Value Count\n",
        "len(hotel_df[hotel_df.duplicated()])"
      ],
      "metadata": {
        "id": "1sLdpKYkmox0"
      },
      "execution_count": null,
      "outputs": []
    },
    {
      "cell_type": "markdown",
      "source": [
        "#### Missing Values/Null Values"
      ],
      "metadata": {
        "id": "PoPl-ycgm1ru"
      }
    },
    {
      "cell_type": "code",
      "source": [
        "# Missing Values/Null Values Count\n",
        "print(hotel_df.isnull().sum())"
      ],
      "metadata": {
        "id": "GgHWkxvamxVg"
      },
      "execution_count": null,
      "outputs": []
    },
    {
      "cell_type": "code",
      "source": [
        "# Visualizing the missing values\n",
        "sns.heatmap(hotel_df.isnull(),cbar=False)"
      ],
      "metadata": {
        "id": "3q5wnI3om9sJ"
      },
      "execution_count": null,
      "outputs": []
    },
    {
      "cell_type": "markdown",
      "source": [
        "### What did you know about your dataset?"
      ],
      "metadata": {
        "id": "H0kj-8xxnORC"
      }
    },
    {
      "cell_type": "markdown",
      "source": [
        "As of my initial exploration of the hotel bookings data, I have gained several insights. The dataset includes information on various aspects of hotel bookings, such as booking dates, lead times, hotel types, customer details, Car parking requirements, cancellations, and other relevant features. I have identified key statistics, including the number of records, data types of each column, and an overview of the distribution of categorical and numerical variables. I've also checked for any missing values that may require attention during data preprocessing.\n",
        "\n",
        "The above dataset has 119390 rows and 32 columns. There are some mising values and duplicate values in the dataset which must be processed."
      ],
      "metadata": {
        "id": "gfoNAAC-nUe_"
      }
    },
    {
      "cell_type": "markdown",
      "source": [
        "## ***2. Understanding Your Variables***"
      ],
      "metadata": {
        "id": "nA9Y7ga8ng1Z"
      }
    },
    {
      "cell_type": "code",
      "source": [
        "# Dataset Columns\n",
        "hotel_df.columns"
      ],
      "metadata": {
        "id": "j7xfkqrt5Ag5"
      },
      "execution_count": null,
      "outputs": []
    },
    {
      "cell_type": "code",
      "source": [
        "# Dataset Describe\n",
        "hotel_df.describe(include='all')"
      ],
      "metadata": {
        "id": "DnOaZdaE5Q5t"
      },
      "execution_count": null,
      "outputs": []
    },
    {
      "cell_type": "markdown",
      "source": [
        "### Variables Description"
      ],
      "metadata": {
        "id": "PBTbrJXOngz2"
      }
    },
    {
      "cell_type": "markdown",
      "source": [
        "* **Hotel                                    :**Name of the hotel\n",
        "\n",
        "* **Is Canceled                              :**If the booking was cancelled (1) or not(0)\n",
        "\n",
        "* **Lead Time                                :**Number of days that elapsed between the entering date of the booking into the PMS and the arrival date\n",
        "\n",
        "* **Arrival Date Year                        :**Year of arrival date\n",
        "\n",
        "* **Arrival Date Month           :**  Month of arrival date\n",
        "\n",
        "* **Arrival Date Week Number        :**Week number for arrival date\n",
        "\n",
        "* **Arrival Date Day             :**Day of arrival date\n",
        "\n",
        "* **Stays In Weekend Nights        :** Number of weekend nights (Saturday or Sunday) the guest stayed or booked to stay at the hotel\n",
        "\n",
        "* **Stays In Week Nights         :**Number of week nights (Monday to Friday) the guest stayed or booked to stay at the hotel\n",
        "\n",
        "* **Adults          :**Number of adults\n",
        "\n",
        "* **Children           :**Number of children\n",
        "\n",
        "* **Babies         :**Number of babies\n",
        "\n",
        "* **Meal        :**Kind of meal opted for\n",
        "\n",
        "* **Country        :**Country\n",
        "\n",
        "* **Night Charge      :** Total night charge\n",
        "\n",
        "* **Market Segment        :** Total International minutes used\n",
        "\n",
        "* **Distribution Channel         :**How the customer accessed the stay- corporate booking/Direct/TA.TO\n",
        "\n",
        "* **Is Repeated Guest        :**Guest coming for first time or not\n",
        "\n",
        "* **Previous Cancellation    :**Was there a cancellation before\n",
        "\n",
        "* **Previous Bookings            :** Count of previous bookings\n",
        "\n",
        "* **Reserved Room Type          :**Type of room reserved\n",
        "\n",
        "* **Assigned Room Type           :**Type of room assigned\n",
        "\n",
        "* **Booking Changes         :**Count of changes made to booking\n",
        "\n",
        "* **Deposit Type        :**Type of Deposit made\n",
        "\n",
        "* **Agent        :**Booked through agent\n",
        "\n",
        "* **Company        :**ID of the company that made the booking\n",
        "\n",
        "* **Days In Waiting List     :** Number of days in waiting list\n",
        "\n",
        "* **Customer Type        :** Type of customer\n",
        "\n",
        "* **ADR        :** Average daily rate\n",
        "\n",
        "* **Required Car Parking         :**If car parking is required\n",
        "\n",
        "* **Total of special req        :**Number of additional special requirements\n",
        "\n",
        "* **Reservation Status    :**Reservation of status\n",
        "\n",
        "* **Reservation Status Date             :**Date of the specific status"
      ],
      "metadata": {
        "id": "aJV4KIxSnxay"
      }
    },
    {
      "cell_type": "markdown",
      "source": [
        "### Check Unique Values for each variable."
      ],
      "metadata": {
        "id": "u3PMJOP6ngxN"
      }
    },
    {
      "cell_type": "code",
      "source": [
        "# Check Unique Values for each variable.\n",
        "for i in hotel_df.columns.tolist():\n",
        "  print(\"No. of unique values in \",i,\"is\",hotel_df[i].nunique(),\".\")\n"
      ],
      "metadata": {
        "id": "zms12Yq5n-jE"
      },
      "execution_count": null,
      "outputs": []
    },
    {
      "cell_type": "markdown",
      "source": [
        "## 3. ***Data Wrangling***"
      ],
      "metadata": {
        "id": "dauF4eBmngu3"
      }
    },
    {
      "cell_type": "markdown",
      "source": [
        "### Data Wrangling Code"
      ],
      "metadata": {
        "id": "bKJF3rekwFvQ"
      }
    },
    {
      "cell_type": "markdown",
      "source": [
        "## 1. Dropping Duplicate Values"
      ],
      "metadata": {
        "id": "oluu6APEqVxc"
      }
    },
    {
      "cell_type": "code",
      "source": [
        "# Write your code to make your dataset analysis ready.\n",
        "hoteldf=hotel_df.copy()\n",
        "\n",
        "#Removing the duplicates\n",
        "hoteldf.drop_duplicates(inplace=True)\n",
        "#check if there are any duplicates\n",
        "len(hoteldf[hoteldf.duplicated()])"
      ],
      "metadata": {
        "id": "wk-9a2fpoLcV"
      },
      "execution_count": null,
      "outputs": []
    },
    {
      "cell_type": "code",
      "source": [
        "#check for the unique rows after dropping duplicates\n",
        "unique_num_of_rows=hoteldf.shape[0]\n",
        "unique_num_of_rows"
      ],
      "metadata": {
        "id": "GjPQkba5pa8Z"
      },
      "execution_count": null,
      "outputs": []
    },
    {
      "cell_type": "markdown",
      "source": [
        "## 2. Handling Null Values/Missing Values"
      ],
      "metadata": {
        "id": "oohRaQE2qCFb"
      }
    },
    {
      "cell_type": "code",
      "source": [
        "null_Value=hoteldf.isnull()==True\n",
        "#Filling the Null values with NaN\n",
        "hoteldf.fillna(np.nan,inplace=True)\n",
        "#printing the Data Frame after filling the null values with NaN\n",
        "hotel_df"
      ],
      "metadata": {
        "id": "yLVcqyYJqfOF"
      },
      "execution_count": null,
      "outputs": []
    },
    {
      "cell_type": "markdown",
      "source": [
        "-> Check which columns have null values"
      ],
      "metadata": {
        "id": "PC4XU4CktenD"
      }
    },
    {
      "cell_type": "code",
      "source": [
        "miss_values=hoteldf.isnull().sum().sort_values(ascending=False)\n",
        "miss_values"
      ],
      "metadata": {
        "id": "qZHCiNzjupIG"
      },
      "execution_count": null,
      "outputs": []
    },
    {
      "cell_type": "code",
      "source": [
        "#Percentage of missing values in the column named 'Company'\n",
        "percentage_of_null_company_values=miss_values[0]/unique_num_of_rows*100\n",
        "percentage_of_null_company_values"
      ],
      "metadata": {
        "id": "bj6exdSnv1Z9"
      },
      "execution_count": null,
      "outputs": []
    },
    {
      "cell_type": "code",
      "source": [
        "#As we can see 93% of the company values as null. It is better to drop the Company column\n",
        "#Dropping the Company Column\n",
        "hoteldf.drop(['company'] , axis=1, inplace=True)"
      ],
      "metadata": {
        "id": "zYFE1PqNwhWA"
      },
      "execution_count": null,
      "outputs": []
    },
    {
      "cell_type": "code",
      "source": [
        "#Percentage of missing values in the column named 'Agent'\n",
        "percentage_of_null_agent_values=miss_values[1]/unique_num_of_rows*100\n",
        "percentage_of_null_agent_values"
      ],
      "metadata": {
        "id": "ZD4wJO3zyM8B"
      },
      "execution_count": null,
      "outputs": []
    },
    {
      "cell_type": "code",
      "source": [
        "#Checking for the agent column, we understand that there are minimal null values in agent column\n",
        "#Lets fill the null values with '0'\n",
        "hoteldf['agent'].fillna(value=0, inplace=True)\n",
        "hoteldf['agent'].isnull().sum() #checking if there are any null values left"
      ],
      "metadata": {
        "id": "eTHY-CLzxI8b"
      },
      "execution_count": null,
      "outputs": []
    },
    {
      "cell_type": "code",
      "source": [
        "#Percentage of missing values in the column named 'Country'\n",
        "percentage_of_null_country_values=miss_values[2]/unique_num_of_rows*100\n",
        "percentage_of_null_country_values"
      ],
      "metadata": {
        "id": "7925lOoLx-aC"
      },
      "execution_count": null,
      "outputs": []
    },
    {
      "cell_type": "code",
      "source": [
        "#There are less null values in country column, so lets replace null with 'Others' for country\n",
        "hoteldf['country'].fillna(value='Others', inplace=True)\n",
        "hoteldf['country'].isnull().sum() #checking if there are any null values left"
      ],
      "metadata": {
        "id": "DIy3n7Yiyoxl"
      },
      "execution_count": null,
      "outputs": []
    },
    {
      "cell_type": "code",
      "source": [
        "#Percentage of missing values in the column named 'Country'\n",
        "percentage_of_null_children_values=miss_values[3]/unique_num_of_rows*100\n",
        "percentage_of_null_children_values"
      ],
      "metadata": {
        "id": "AmSoH2WAy8Rw"
      },
      "execution_count": null,
      "outputs": []
    },
    {
      "cell_type": "code",
      "source": [
        "#There are less null values in children column, so lets replace null with '0' for children\n",
        "hoteldf['children'].fillna(value=0, inplace=True)\n",
        "hoteldf['children'].isnull().sum() #checking if there are any null values left"
      ],
      "metadata": {
        "id": "mlRb1aABzC3g"
      },
      "execution_count": null,
      "outputs": []
    },
    {
      "cell_type": "code",
      "source": [
        "#Check whether the dataframe still have any null values\n",
        "hoteldf.isnull().sum()"
      ],
      "metadata": {
        "id": "SvCzwkhHzevL"
      },
      "execution_count": null,
      "outputs": []
    },
    {
      "cell_type": "markdown",
      "source": [
        "##3. Changing the data types for the required columns"
      ],
      "metadata": {
        "id": "2cokFXl_zzZz"
      }
    },
    {
      "cell_type": "code",
      "source": [
        "#using info to check the data types of the columns\n",
        "hoteldf.info()"
      ],
      "metadata": {
        "id": "HQuRxL5Zz9XX"
      },
      "execution_count": null,
      "outputs": []
    },
    {
      "cell_type": "code",
      "source": [
        "#Changing the data type of children and agent to int\n",
        "convert_dict={\n",
        "    'children':int,\n",
        "    'agent':int\n",
        "}\n",
        "hoteldf=hoteldf.astype(convert_dict)"
      ],
      "metadata": {
        "id": "1FfyspQN9YW6"
      },
      "execution_count": null,
      "outputs": []
    },
    {
      "cell_type": "code",
      "source": [
        "#Adding a new column 'Total_stays_in_nights'\n",
        "hoteldf['Total_stays_in_nights']=hoteldf['stays_in_week_nights']+hoteldf['stays_in_weekend_nights']\n",
        "hoteldf['Total_stays_in_nights'] #new column by adding week nights and weekend nights stayed"
      ],
      "metadata": {
        "id": "0CgGkUcY0wkK"
      },
      "execution_count": null,
      "outputs": []
    },
    {
      "cell_type": "code",
      "source": [
        "#Creating a column revenue by multiplying total night stayed by average daily rate(ADR)\n",
        "hoteldf['Revenue']=hoteldf['Total_stays_in_nights']*hoteldf['adr']\n",
        "hoteldf['Revenue']"
      ],
      "metadata": {
        "id": "JfxQ0ORA1TXU"
      },
      "execution_count": null,
      "outputs": []
    },
    {
      "cell_type": "code",
      "source": [
        "#Adding a new column for calculating total guests for each booking by adding adults, children and babies\n",
        "hoteldf['Guests']=hoteldf['adults']+hoteldf['children']+hoteldf['babies']\n",
        "hoteldf['Guests']"
      ],
      "metadata": {
        "id": "uZmb9AB22BQw"
      },
      "execution_count": null,
      "outputs": []
    },
    {
      "cell_type": "code",
      "source": [
        "#Replacing 0 with 'not canceled' and 1 with 'is canceled' in the column 'is_canceled' for better understanding\n",
        "hoteldf['is_canceled']=hoteldf['is_canceled'].replace([0,1],['not canceled','is canceled'])\n",
        "hoteldf['is_canceled']"
      ],
      "metadata": {
        "id": "V_9tXOJj2g8W"
      },
      "execution_count": null,
      "outputs": []
    },
    {
      "cell_type": "code",
      "source": [
        "#Replacing 0 with 'not repeated' and 1 with 'repeated' in the column 'is_repeated_guest' for better understanding\n",
        "hoteldf['is_repeated_guest']=hoteldf['is_repeated_guest'].replace([0,1],['not repeated','repeated'])\n",
        "hoteldf['is_repeated_guest']"
      ],
      "metadata": {
        "id": "RYHM3UDw3MlG"
      },
      "execution_count": null,
      "outputs": []
    },
    {
      "cell_type": "code",
      "source": [
        "#Analysing the hotel wise revenue\n",
        "hotel_wise_revenue=hoteldf.groupby('hotel')['Revenue'].sum()\n",
        "hotel_wise_revenue"
      ],
      "metadata": {
        "id": "nlmCODTT3mL1"
      },
      "execution_count": null,
      "outputs": []
    },
    {
      "cell_type": "markdown",
      "source": [
        "### What all manipulations have you done and insights you found?"
      ],
      "metadata": {
        "id": "MSa1f5Uengrz"
      }
    },
    {
      "cell_type": "markdown",
      "source": [
        "I just made a few modifications to the data.\n",
        "\n",
        "**1. Columns were added.**\n",
        "\n",
        "We've seen that the data requires a few columns for analytical reasons, which may be examined.\n",
        "\n",
        "a) Total Number of Guests: Using these data, we may determine the total number of guests. This amount is calculated by adding the number of adults, children, and newborns.\n",
        "\n",
        "b)Total Nights Stayed: We calculated this by summing total week nights and total weekend nights stayed. This is used to compute revenue by multiplying by ADR.\n",
        "\n",
        "c) Revenue: The ADR and total nights stayed are compounded to calculate revenue. This column will be used to analyze each hotel's growth and profitability.\n",
        "\n",
        "**2. Columns were eliminated.**\n",
        "\n",
        "a)Company: As we can see, this column has absolutely no data. As a result, we had to remove this column because it had no relevance to the analysis.\n",
        "\n",
        "**3. Replace values in columns**\n",
        "\n",
        "a) Is Cancelled: As we've seen, the boycott is now being canceled because these columns only contain the value of 0. These \"Cancelled\" & \"Not cancelled\" values (0,1) are altered.\n",
        "\n",
        "b) Is Repeated Guest: The \"is_repeated_guest\" column's (0,1) values for \"Repeated\" and \"Not repeated\" are changed using the same process. Now, while visualizing, these values will make comprehension easier.\n",
        "\n",
        "**4. Modifications to the data types of values in columns**\n",
        "\n",
        "a) Agent & Children: We confirmed that the float values in these columns represent the agent ID and children, which aren't consistent with the data. As a result, we changed these columns' \"float\" data type to \"Integer.\"\n",
        "\n",
        "**5.Deleted null values and redundant entries**\n",
        "\n",
        "a)Before any data from the data set can be shown, data wrangling needs to be completed. To ascertain that, we have looked at the null value in each column. If, after inspecting, we find a column with a higher percentage of null values, we should drop it using the 'drop' method. We don't belong in the \"company\" section at all. When there are just a few null values, we use the .fillna() function to fill those null values with the required values.\n",
        "\n",
        "b) We examined the same to check for data duplication and found that some rows included duplicate information. Therefore, we removed those rows from the data collection using the drop_duplicates() method.\n",
        "This has allowed us to remove any extraneous data.\n",
        "\n"
      ],
      "metadata": {
        "id": "Yp3GL8W_5guM"
      }
    },
    {
      "cell_type": "markdown",
      "source": [
        "## ***4. Data Vizualization, Storytelling & Experimenting with charts : Understand the relationships between variables***"
      ],
      "metadata": {
        "id": "GF8Ens_Soomf"
      }
    },
    {
      "cell_type": "code",
      "source": [
        "#Resusbale code for Visualizing Bar Chart\n",
        "def get_count_for_column_bar(hoteldf, column_label):\n",
        "    # Get the counts for each unique value in the specified column\n",
        "    grouped_df = hoteldf[column_label].value_counts()\n",
        "\n",
        "    # Create a DataFrame from the counts\n",
        "    grouped_df = pd.DataFrame({'index': grouped_df.index, 'count': grouped_df.values})\n",
        "\n",
        "    return grouped_df\n",
        "\n",
        "def bar_chart_from_column(hoteldf, column_label, title):\n",
        "    # Get the count DataFrame using the helper function\n",
        "    grouped_df = get_count_for_column_bar(hoteldf, column_label)\n",
        "\n",
        "    # Create a bar chart\n",
        "    fig, ax = plt.subplots(figsize=(14, 6))\n",
        "\n",
        "    # Specify color for each bar (you can customize this list as needed)\n",
        "    c = ['r', 'g', 'b', 'c', 'y']\n",
        "\n",
        "    # Plot the bars with specified parameters\n",
        "    ax.bar(grouped_df['index'], grouped_df['count'], width=0.5, align='edge', edgecolor='black', lw=4, color=c, ls='--', alpha=0.5)\n",
        "\n",
        "    # Set the title\n",
        "    plt.title(title, bbox={'facecolor': '0.8', 'pad': 3})\n",
        "\n",
        "    # Set labels and rotation for better readability\n",
        "    plt.ylabel('Count')\n",
        "    plt.xticks(rotation=15)\n",
        "\n",
        "    # Show the plot\n",
        "    plt.show()\n"
      ],
      "metadata": {
        "id": "_lwCPGRmyZWM"
      },
      "execution_count": null,
      "outputs": []
    },
    {
      "cell_type": "code",
      "source": [
        "#Reusable Code for Visualizing Pie Chart\n",
        "def get_count_for_column_pie(hoteldf, column_label):\n",
        "    # Get the counts for each unique value in the specified column\n",
        "    grouped_df = hoteldf[column_label].value_counts()\n",
        "\n",
        "    # Create a DataFrame from the counts\n",
        "    grouped_df = pd.DataFrame({'index': grouped_df.index, 'count': grouped_df.values})\n",
        "\n",
        "    return grouped_df\n",
        "\n",
        "def pie_chart_from_column(hoteldf, column_label, title, explode_values):\n",
        "    # Get the count DataFrame using the helper function\n",
        "    grouped_df = get_count_for_column_pie(hoteldf, column_label)\n",
        "\n",
        "    # Create a pie chart\n",
        "    fig, ax = plt.subplots(figsize=(14, 9))\n",
        "\n",
        "    # Plot the pie chart with specified parameters\n",
        "    ax.pie(grouped_df.loc[:, 'count'], labels=grouped_df.loc[:, 'index'], autopct='%1.2f%%', startangle=90, labeldistance=1.2, explode=explode_values)\n",
        "\n",
        "    # Set the title\n",
        "    plt.title(title, bbox={'facecolor': '0.8', 'pad': 3})\n",
        "\n",
        "    # Add legend for better clarity\n",
        "    plt.legend(bbox_to_anchor=(1.05, 1.0), loc='upper left')\n",
        "\n",
        "    # Show the plot\n",
        "    plt.show()"
      ],
      "metadata": {
        "id": "h2kEo4RN1RVv"
      },
      "execution_count": null,
      "outputs": []
    },
    {
      "cell_type": "markdown",
      "source": [
        "## ***Hotel Wise Analysis***"
      ],
      "metadata": {
        "id": "F-cNMZdQKBXE"
      }
    },
    {
      "cell_type": "markdown",
      "source": [
        "#### Chart - 1 - Booking Percentage of Hotel By Name (Pie Chart)"
      ],
      "metadata": {
        "id": "0wOQAZs5pc--"
      }
    },
    {
      "cell_type": "code",
      "source": [
        "# Chart - 1 visualization code\n",
        "# Set explode values for the pie chart slices\n",
        "exp1 = [0, 0.1]\n",
        "\n",
        "# Call the pie_chart_from_column function with the specified parameters\n",
        "pie_chart_from_column(hoteldf, 'hotel', 'Booking Percentage of Hotel By Name', exp1)"
      ],
      "metadata": {
        "id": "7v_ESjsspbW7"
      },
      "execution_count": null,
      "outputs": []
    },
    {
      "cell_type": "markdown",
      "source": [
        "##### 1. Why did you pick the specific chart?"
      ],
      "metadata": {
        "id": "K5QZ13OEpz2H"
      }
    },
    {
      "cell_type": "markdown",
      "source": [
        "To visualize the booking data to find which hotel has the more bookings in the form of proportions\n"
      ],
      "metadata": {
        "id": "XESiWehPqBRc"
      }
    },
    {
      "cell_type": "markdown",
      "source": [
        "##### 2. What is/are the insight(s) found from the chart?"
      ],
      "metadata": {
        "id": "lQ7QKXXCp7Bj"
      }
    },
    {
      "cell_type": "markdown",
      "source": [
        "I found that there are more number of bookings done in the City Hotel compared to the Resort Hotel"
      ],
      "metadata": {
        "id": "C_j1G7yiqdRP"
      }
    },
    {
      "cell_type": "markdown",
      "source": [
        "##### 3. Will the gained insights help creating a positive business impact?\n",
        "Are there any insights that lead to negative growth? Justify with specific reason."
      ],
      "metadata": {
        "id": "448CDAPjqfQr"
      }
    },
    {
      "cell_type": "markdown",
      "source": [
        "We have gained the insights creating a positive business impact by visualizing the booking data through pie chart.\n",
        "\n",
        "City Hotel- Successfull in attracting more guests to increase the revenue.\n",
        "\n",
        "Resort Hotel - Must sort out on why the bookings are less and how to rectify the issue and attract more guests"
      ],
      "metadata": {
        "id": "3cspy4FjqxJW"
      }
    },
    {
      "cell_type": "markdown",
      "source": [
        "#### Chart - 2 - Percentage of Cancellations of Hotel Bookings (Pie Chart)"
      ],
      "metadata": {
        "id": "KSlN3yHqYklG"
      }
    },
    {
      "cell_type": "code",
      "source": [
        "# Chart - 2 visualization code\n",
        "# Set explode values for the pie chart slices\n",
        "exp1=[0,0.1]\n",
        "\n",
        "# Call the pie_chart_from_column function with the specified parameters\n",
        "pie_chart_from_column(hoteldf,'is_canceled','Percentage of Cancellations of Hotel Bookings', exp1)"
      ],
      "metadata": {
        "id": "R4YgtaqtYklH"
      },
      "execution_count": null,
      "outputs": []
    },
    {
      "cell_type": "markdown",
      "source": [
        "##### 1. Why did you pick the specific chart?"
      ],
      "metadata": {
        "id": "t6dVpIINYklI"
      }
    },
    {
      "cell_type": "markdown",
      "source": [
        "To visualize the booking cancellation data to find what percentage of bookings are cancelled."
      ],
      "metadata": {
        "id": "5aaW0BYyYklI"
      }
    },
    {
      "cell_type": "markdown",
      "source": [
        "##### 2. What is/are the insight(s) found from the chart?"
      ],
      "metadata": {
        "id": "ijmpgYnKYklI"
      }
    },
    {
      "cell_type": "markdown",
      "source": [
        "We can find that 27.49% of the total bookings made are cancelled."
      ],
      "metadata": {
        "id": "PSx9atu2YklI"
      }
    },
    {
      "cell_type": "markdown",
      "source": [
        "##### 3. Will the gained insights help creating a positive business impact?\n",
        "Are there any insights that lead to negative growth? Justify with specific reason."
      ],
      "metadata": {
        "id": "-JiQyfWJYklI"
      }
    },
    {
      "cell_type": "markdown",
      "source": [
        "As we can see that the percentage of cancellations of bookings are 27.49% which is not very less. We need to find out the reason for the cancellations and sort it out at the business level."
      ],
      "metadata": {
        "id": "BcBbebzrYklV"
      }
    },
    {
      "cell_type": "markdown",
      "source": [
        "#### Chart - 3 - Revenue Analysis of Hotels"
      ],
      "metadata": {
        "id": "elvVfRDbEjnK"
      }
    },
    {
      "cell_type": "code",
      "source": [
        "# Calculate the average ADR for each hotel category\n",
        "# Using the 'adr' column, apply the mean function to each group\n",
        "# Reset the index to transform the result into a DataFrame\n",
        "grouped_by_hotel = hoteldf.groupby('hotel')\n",
        "d3 = grouped_by_hotel['adr'].agg(np.mean).reset_index().rename(columns={'adr': 'avg_adr'})\n",
        "\n",
        "# Define colors for the bars\n",
        "colors = ['lightgreen', 'lightcoral']\n",
        "\n",
        "# Create a bar plot to visualize the average ADR for each hotel category\n",
        "plt.figure(figsize=(8, 5))\n",
        "sns.barplot(x=d3['hotel'], y=d3['avg_adr'], palette=colors)\n",
        "\n",
        "# Set plot title\n",
        "plt.title('Average ADR by Hotel')\n",
        "\n",
        "# Set x and y-axis labels\n",
        "plt.xlabel('Hotel')\n",
        "plt.ylabel('Average ADR')\n",
        "\n",
        "# Display the plot\n",
        "plt.show()\n"
      ],
      "metadata": {
        "id": "Ybo190UaEwqg"
      },
      "execution_count": null,
      "outputs": []
    },
    {
      "cell_type": "markdown",
      "source": [
        "##### 1. Why did you pick the specific chart?"
      ],
      "metadata": {
        "id": "YkgVM6pqY6M9"
      }
    },
    {
      "cell_type": "markdown",
      "source": [
        "To compare the Average Daily Rates of the hotels."
      ],
      "metadata": {
        "id": "XhDjbuCIY9uS"
      }
    },
    {
      "cell_type": "markdown",
      "source": [
        "##### 2. What is/are the insight(s) found from the chart?"
      ],
      "metadata": {
        "id": "_Yr8se-DZAoX"
      }
    },
    {
      "cell_type": "markdown",
      "source": [
        "City Hotel has greater ADR which ultimately results in higher revenue."
      ],
      "metadata": {
        "id": "Mxj2Dl2sZAof"
      }
    },
    {
      "cell_type": "markdown",
      "source": [
        "##### 3. Will the gained insights help creating a positive business impact?\n",
        "Are there any insights that lead to negative growth? Justify with specific reason."
      ],
      "metadata": {
        "id": "4gLabIZgZAog"
      }
    },
    {
      "cell_type": "markdown",
      "source": [
        "This insights negatively impact on Resort hotel as it's ADR is less. It must focus on price optimizations and campaignings inorder to attract more guests."
      ],
      "metadata": {
        "id": "8JUiO-7rZAog"
      }
    },
    {
      "cell_type": "markdown",
      "source": [
        "#### Chart - 4 - Repeated Customer Analysis\n"
      ],
      "metadata": {
        "id": "a_-amOdiFnVW"
      }
    },
    {
      "cell_type": "code",
      "source": [
        "# Create a copy of the DataFrame\n",
        "df1 = hotel_df.copy()\n",
        "\n",
        "# Filter data for repeated guests\n",
        "repeated_data = df1[df1['is_repeated_guest'] == 1]\n",
        "\n",
        "# Group by hotel for repeated guests\n",
        "repeat_grp = repeated_data.groupby('hotel')\n",
        "D1 = pd.DataFrame(repeat_grp.size()).rename(columns={0: 'total_repeated_guests'})\n",
        "\n",
        "# Count total bookings for each hotel\n",
        "total_booking = grouped_by_hotel.size()\n",
        "D2 = pd.DataFrame(total_booking).rename(columns={0: 'total_bookings'})\n",
        "\n",
        "# Concatenate DataFrames to get a single DataFrame with total repeated guests and total bookings\n",
        "D3 = pd.concat([D1, D2], axis=1)\n",
        "\n",
        "# Calculate the percentage of repeated guests for each hotel\n",
        "D3['repeat_%'] = round((D3['total_repeated_guests'] / D3['total_bookings']) * 100, 2)\n",
        "\n",
        "# Define colors for the bars\n",
        "colors = ['lightgreen', 'lightcoral']\n",
        "\n",
        "# Create a bar plot to visualize the percentage of repeated guests for each hotel\n",
        "plt.figure(figsize=(10, 5))\n",
        "sns.barplot(x=D3.index, y=D3['repeat_%'], palette=colors)\n",
        "\n",
        "# Set plot title\n",
        "plt.title('Percentage of Repeated Guests by Hotel')\n",
        "\n",
        "# Set x and y-axis labels\n",
        "plt.xlabel('Hotel')\n",
        "plt.ylabel('Repeat Percentage')\n",
        "\n",
        "# Display the plot\n",
        "plt.show()\n"
      ],
      "metadata": {
        "id": "xLGURXRTF31Q"
      },
      "execution_count": null,
      "outputs": []
    },
    {
      "cell_type": "markdown",
      "source": [
        "##### 1. Why did you pick the specific chart?"
      ],
      "metadata": {
        "id": "5mkV-VHrZ3ev"
      }
    },
    {
      "cell_type": "markdown",
      "source": [
        "To find the number of guests tho are repeatedly booking the hotels."
      ],
      "metadata": {
        "id": "8kebCOmZZ3e3"
      }
    },
    {
      "cell_type": "markdown",
      "source": [
        "##### 2. What is/are the insight(s) found from the chart?"
      ],
      "metadata": {
        "id": "59TKZY-2Z3e3"
      }
    },
    {
      "cell_type": "markdown",
      "source": [
        "Repeated guests are more in Resort Hotel when compared to City Hotel."
      ],
      "metadata": {
        "id": "HosYiotKZ3e3"
      }
    },
    {
      "cell_type": "markdown",
      "source": [
        "##### 3. Will the gained insights help creating a positive business impact?\n",
        "Are there any insights that lead to negative growth? Justify with specific reason."
      ],
      "metadata": {
        "id": "qmWAqVM2Z3e3"
      }
    },
    {
      "cell_type": "markdown",
      "source": [
        "This insights negatively impact on City Hotel as some past customers are not prefering the hotel due to some reasong as repeated customers are less in City Hotel. Hotel Management rectify the customer feedback and work on improving the conditions and satisfying the guests."
      ],
      "metadata": {
        "id": "tVAsHlCbZ3e4"
      }
    },
    {
      "cell_type": "markdown",
      "source": [
        "## ***Univariate Analysis***"
      ],
      "metadata": {
        "id": "wpaS0W5bLRNw"
      }
    },
    {
      "cell_type": "markdown",
      "source": [
        "#### Chart - 5 - Distribution Channel Volume (Bar Chart)"
      ],
      "metadata": {
        "id": "EM7whBJCYoAo"
      }
    },
    {
      "cell_type": "code",
      "source": [
        "# Chart - 3 visualization code\n",
        "# Call the bar_chart_from_column function with the specified parameters\n",
        "bar_chart_from_column(hotel_df, 'distribution_channel', 'Distribution Channel Volume')"
      ],
      "metadata": {
        "id": "t6GMdE67YoAp"
      },
      "execution_count": null,
      "outputs": []
    },
    {
      "cell_type": "markdown",
      "source": [
        "##### 1. Why did you pick the specific chart?"
      ],
      "metadata": {
        "id": "fge-S5ZAYoAp"
      }
    },
    {
      "cell_type": "markdown",
      "source": [
        "This chart is used to find the volume of booking done through different channel and arrange them in the descending order."
      ],
      "metadata": {
        "id": "5dBItgRVYoAp"
      }
    },
    {
      "cell_type": "markdown",
      "source": [
        "##### 2. What is/are the insight(s) found from the chart?"
      ],
      "metadata": {
        "id": "85gYPyotYoAp"
      }
    },
    {
      "cell_type": "markdown",
      "source": [
        "We can find that highest number of bookings are done through the 'TA/TO'-(Tour of Agent & Tour of Operator) Booking Channel. Recommend to continue with this channel."
      ],
      "metadata": {
        "id": "4jstXR6OYoAp"
      }
    },
    {
      "cell_type": "markdown",
      "source": [
        "##### 3. Will the gained insights help creating a positive business impact?\n",
        "Are there any insights that lead to negative growth? Justify with specific reason."
      ],
      "metadata": {
        "id": "RoGjAbkUYoAp"
      }
    },
    {
      "cell_type": "markdown",
      "source": [
        "This shows a positive impact on the business. So that the highest number of TA/TO will result in higher bookings ultimately increasing the revenue for the Hotels."
      ],
      "metadata": {
        "id": "zfJ8IqMcYoAp"
      }
    },
    {
      "cell_type": "markdown",
      "source": [
        "#### Chart - 6 - Comparison of Assigned and Reserved Room Types (clustered bar chart)"
      ],
      "metadata": {
        "id": "bamQiAODYuh1"
      }
    },
    {
      "cell_type": "code",
      "source": [
        "# Chart - 5 visualization code\n",
        "\n",
        "# Count the frequency of reserved and assigned room types\n",
        "reserved_counts = hoteldf['reserved_room_type'].value_counts().sort_index()\n",
        "assigned_counts = hoteldf['assigned_room_type'].value_counts().sort_index()\n",
        "\n",
        "# Create a DataFrame for plotting\n",
        "plot_data = pd.DataFrame({'Reserved': reserved_counts, 'Assigned': assigned_counts})\n",
        "\n",
        "# Plot the side-by-side bar chart\n",
        "ax = plot_data.plot(kind='bar', width=0.9, colormap='viridis')\n",
        "\n",
        "# Set labels and title\n",
        "plt.xlabel('Room Type')\n",
        "plt.ylabel('Count of Guests')\n",
        "plt.title('Comparison of Assigned and Reserved Room Types')\n",
        "\n",
        "# Display the legend\n",
        "plt.legend(title='Room Status', bbox_to_anchor=(1.05, 1), loc='upper left')\n",
        "\n",
        "# Show the plot\n",
        "plt.show()\n"
      ],
      "metadata": {
        "id": "TIJwrbroYuh3"
      },
      "execution_count": null,
      "outputs": []
    },
    {
      "cell_type": "markdown",
      "source": [
        "##### 1. Why did you pick the specific chart?"
      ],
      "metadata": {
        "id": "QHF8YVU7Yuh3"
      }
    },
    {
      "cell_type": "markdown",
      "source": [
        "To visualize the number of bookings in each 'room type' reserved by the guests and the room type assigned to them in the order."
      ],
      "metadata": {
        "id": "dcxuIMRPYuh3"
      }
    },
    {
      "cell_type": "markdown",
      "source": [
        "##### 2. What is/are the insight(s) found from the chart?"
      ],
      "metadata": {
        "id": "GwzvFGzlYuh3"
      }
    },
    {
      "cell_type": "markdown",
      "source": [
        "We can find that most of the customers are intrested in room-type 'A'. But few guests are being alloted to different room type.\n",
        "Recommending to maintain more number of A type rooms."
      ],
      "metadata": {
        "id": "uyqkiB8YYuh3"
      }
    },
    {
      "cell_type": "markdown",
      "source": [
        "##### 3. Will the gained insights help creating a positive business impact?\n",
        "Are there any insights that lead to negative growth? Justify with specific reason."
      ],
      "metadata": {
        "id": "qYpmQ266Yuh3"
      }
    },
    {
      "cell_type": "markdown",
      "source": [
        "The gained insights help in creating positive business impact by making sure that mostly the reserved rooms are assigned to the customers which will make customers comfortable.\n",
        "Solution: As many guests are reserving Room Type A and some guests are not getting the desired room type and being moved to other rooms. Increase the room count which are preferred by guests and reduce the rooms which are not being reserved."
      ],
      "metadata": {
        "id": "_WtzZ_hCYuh4"
      }
    },
    {
      "cell_type": "markdown",
      "source": [
        "#### Chart - 7 - Top 10 Countries with Highest Number of Guests (Bar chart)"
      ],
      "metadata": {
        "id": "CFEad9WbMa3r"
      }
    },
    {
      "cell_type": "code",
      "source": [
        "# Chart - 7 visualization code\n",
        "# Create a DataFrame with 'country' and 'Guests' columns\n",
        "guest_country_wise_df = pd.DataFrame(hoteldf[['country', 'Guests']])\n",
        "\n",
        "# Group by 'country' and sum the 'Guests' for each country\n",
        "guest_country_wise_df = guest_country_wise_df.groupby(['country'])['Guests'].sum()\n",
        "\n",
        "# Sort the DataFrame by the total number of guests in descending order\n",
        "guest_country_wise_df.sort_values(ascending=False, inplace=True)\n",
        "\n",
        "# Select the top 10 countries with the highest number of guests\n",
        "top_10_country_guests = guest_country_wise_df.head(10)\n",
        "\n",
        "# Display the country codes for better understanding\n",
        "print(\"\\nPRT-Portugal\\nGBR-Great Britain\\nFRA-France\\nESP-Spain\\nDEU-Germany\\nITA-Italy\\nIRL-Ireland\\nBRA-Brazil\\nBEL-Belgium\\nNLD-Netherlands\")\n",
        "\n",
        "# Create a bar plot for the top 10 countries with the highest number of guests\n",
        "plt.figure(figsize=(16, 8))\n",
        "sns.barplot(x=top_10_country_guests.index, y=top_10_country_guests.values)\n",
        "\n",
        "# Set title and labels\n",
        "plt.title('Top 10 Countries with Highest Number of Guests')\n",
        "plt.show()\n"
      ],
      "metadata": {
        "id": "7ARmYowdlHaK"
      },
      "execution_count": null,
      "outputs": []
    },
    {
      "cell_type": "markdown",
      "source": [
        "##### 1. Why did you pick the specific chart?"
      ],
      "metadata": {
        "id": "t27r6nlMphqO"
      }
    },
    {
      "cell_type": "markdown",
      "source": [
        "This graph visualizes the categorical country data with the number of guests from the respective countries."
      ],
      "metadata": {
        "id": "iv6ro40sphqO"
      }
    },
    {
      "cell_type": "markdown",
      "source": [
        "##### 2. What is/are the insight(s) found from the chart?"
      ],
      "metadata": {
        "id": "r2jJGEOYphqO"
      }
    },
    {
      "cell_type": "markdown",
      "source": [
        "There are more number of guests from Portugal followed by Great Britain and France."
      ],
      "metadata": {
        "id": "Po6ZPi4hphqO"
      }
    },
    {
      "cell_type": "markdown",
      "source": [
        "##### 3. Will the gained insights help creating a positive business impact?\n",
        "Are there any insights that lead to negative growth? Justify with specific reason."
      ],
      "metadata": {
        "id": "b0JNsNcRphqO"
      }
    },
    {
      "cell_type": "markdown",
      "source": [
        "As ther are more guests from Portugal, Admitting a person who speaks Portugese and including most loved portugese meals in the menu would positively impact the business by improving the customer satisfaction."
      ],
      "metadata": {
        "id": "xvSq8iUTphqO"
      }
    },
    {
      "cell_type": "markdown",
      "source": [
        "## ***Monthly Analysis***"
      ],
      "metadata": {
        "id": "kl0M5sYnM9FZ"
      }
    },
    {
      "cell_type": "markdown",
      "source": [
        "#### Chart - 8 - Monthly Distribution of Average Daily Rate (ADR) (Box Plot)"
      ],
      "metadata": {
        "id": "BZR9WyysphqO"
      }
    },
    {
      "cell_type": "code",
      "source": [
        "# Chart - 8 visualization code\n",
        "# Create a copy of the DataFrame to avoid modifying the original data\n",
        "df1 = hoteldf.copy()\n",
        "\n",
        "# Define the desired order for the months\n",
        "reindex = ['January', 'February', 'March', 'April', 'May', 'June', 'July', 'August', 'September', 'October', 'November', 'December']\n",
        "\n",
        "# Convert 'arrival_date_month' to a categorical variable with the specified order\n",
        "df1['arrival_date_month'] = pd.Categorical(df1['arrival_date_month'], categories=reindex, ordered=True)\n",
        "\n",
        "# Create a box plot to visualize the monthly distribution of Average Daily Rate (ADR)\n",
        "plt.figure(figsize=(15, 8))\n",
        "plt.title('Monthly Distribution of Average Daily Rate (ADR)')\n",
        "\n",
        "# Use seaborn to create a box plot\n",
        "sns.boxplot(x=df1['arrival_date_month'], y=df1['adr'])\n",
        "\n",
        "# Show the plot\n",
        "plt.show()\n"
      ],
      "metadata": {
        "id": "TdPTWpAVphqO"
      },
      "execution_count": null,
      "outputs": []
    },
    {
      "cell_type": "markdown",
      "source": [
        "##### 1. Why did you pick the specific chart?"
      ],
      "metadata": {
        "id": "jj7wYXLtphqO"
      }
    },
    {
      "cell_type": "markdown",
      "source": [
        "\n",
        "A box plot (box-and-whisker plot) of the Average Daily Rate (ADR) for different months provides a visual summary of the distribution and central tendency of the ADR values for each month."
      ],
      "metadata": {
        "id": "Ob8u6rCTphqO"
      }
    },
    {
      "cell_type": "markdown",
      "source": [
        "##### 2. What is/are the insight(s) found from the chart?"
      ],
      "metadata": {
        "id": "eZrbJ2SmphqO"
      }
    },
    {
      "cell_type": "markdown",
      "source": [
        "Avg adr rises from beginning of year upto middle of year and reaches peak at August and then lowers to the end of year. But hotels do make some good deals with high adr at end of year also."
      ],
      "metadata": {
        "id": "mZtgC_hjphqO"
      }
    },
    {
      "cell_type": "markdown",
      "source": [
        "##### 3. Will the gained insights help creating a positive business impact?\n",
        "Are there any insights that lead to negative growth? Justify with specific reason."
      ],
      "metadata": {
        "id": "rFu4xreNphqO"
      }
    },
    {
      "cell_type": "markdown",
      "source": [
        "\n",
        "The positive or negative impact on business growth depends on the specific insights derived from the box plot of ADR by months.\n",
        "\n",
        "**Understanding Seasonal Trends:**\n",
        "\n",
        "Insight: Clear seasonal patterns are visible in the box plot.\n",
        "\n",
        "***Positive Impact:*** The business can tailor marketing campaigns, staffing, and other resources to align with peak seasons, maximizing revenue during high-demand periods.\n",
        "\n",
        "**Effective Pricing Strategies:**\n",
        "\n",
        "Insight: Variability in ADR is low, indicating stable pricing across months.\n",
        "\n",
        "***Positive Impact:*** A stable ADR suggests consistent pricing strategies, fostering customer trust. The business can focus on maintaining service quality rather than frequent price adjustments.\n",
        "\n",
        "\n",
        "---\n",
        "\n",
        "\n",
        "**Identifying Low-Performing Months:**\n",
        "\n",
        "Insight: Certain months consistently have lower median ADR values.\n",
        "\n",
        "***Negative Impact:*** This could indicate challenges during specific periods. The business may need to consider strategies to boost demand, such as targeted promotions or package deals during off-peak months.\n",
        "\n",
        "**Unstable Pricing Trends:**\n",
        "\n",
        "Insight: Wide variability in ADR across months.\n",
        "\n",
        "***Negative Impact:*** High variability may indicate pricing instability, leading to customer uncertainty. This can result in lower customer loyalty and satisfaction."
      ],
      "metadata": {
        "id": "ey_0qi68phqO"
      }
    },
    {
      "cell_type": "markdown",
      "source": [
        "#### Chart - 9 - Monthly Booking Analysis (Pie Chart)"
      ],
      "metadata": {
        "id": "4Of9eVA-YrdM"
      }
    },
    {
      "cell_type": "code",
      "source": [
        "# Chart - 4 visualization code\n",
        "# Set explode values for the pie chart slices\n",
        "exp1 = [0.1, 0, 0, 0, 0, 0, 0, 0, 0, 0, 0, 0]\n",
        "\n",
        "# Call the pie_chart_from_column function with the specified parameters\n",
        "pie_chart_from_column(hoteldf, 'arrival_date_month', 'Monthly Booking Analysis', exp1)"
      ],
      "metadata": {
        "id": "irlUoxc8YrdO"
      },
      "execution_count": null,
      "outputs": []
    },
    {
      "cell_type": "markdown",
      "source": [
        "##### 1. Why did you pick the specific chart?"
      ],
      "metadata": {
        "id": "iky9q4vBYrdO"
      }
    },
    {
      "cell_type": "markdown",
      "source": [
        "To visualize the bookings made in different months proportionallt using pie chart slices."
      ],
      "metadata": {
        "id": "aJRCwT6DYrdO"
      }
    },
    {
      "cell_type": "markdown",
      "source": [
        "##### 2. What is/are the insight(s) found from the chart?"
      ],
      "metadata": {
        "id": "F6T5p64dYrdO"
      }
    },
    {
      "cell_type": "markdown",
      "source": [
        "I found that maximum bookings are made in the month of August and then July and May as these months are from the holiday season. Recommending to make aggressive advertisements during these months to attract more guests."
      ],
      "metadata": {
        "id": "Xx8WAJvtYrdO"
      }
    },
    {
      "cell_type": "markdown",
      "source": [
        "##### 3. Will the gained insights help creating a positive business impact?\n",
        "Are there any insights that lead to negative growth? Justify with specific reason."
      ],
      "metadata": {
        "id": "y-Ehk30pYrdP"
      }
    },
    {
      "cell_type": "markdown",
      "source": [
        "Yes. The increased volume of visitors in different months will help management to manage revenue during down time and improve employee satisfaction and retention."
      ],
      "metadata": {
        "id": "jLNxxz7MYrdP"
      }
    },
    {
      "cell_type": "markdown",
      "source": [
        "#### Chart - 10 - Cancellation Rate Over Time (Line Chart)"
      ],
      "metadata": {
        "id": "U2RJ9gkRphqQ"
      }
    },
    {
      "cell_type": "code",
      "source": [
        "# Chart - 10 visualization code\n",
        "# Filter data for City Hotel and Resort Hotel\n",
        "data_df_City_Hotel = hoteldf[hoteldf['hotel'] == 'City Hotel']\n",
        "data_df_Resort_Hotel = hoteldf[hoteldf['hotel'] == 'Resort Hotel']\n",
        "\n",
        "# Group by arrival date month and count cancellations for City Hotel\n",
        "cancellation_data_City_Hotel = data_df_City_Hotel.groupby('arrival_date_month')['is_canceled'].count()\n",
        "\n",
        "# Group by arrival date month and count cancellations for Resort Hotel\n",
        "cancellation_data_Resort_Hotel = data_df_Resort_Hotel.groupby('arrival_date_month')['is_canceled'].count()\n",
        "\n",
        "# Create DataFrames for plotting\n",
        "cancellation_data_City_Hotel_df = pd.DataFrame({'Month': cancellation_data_City_Hotel.index, 'Is_Cancelled': cancellation_data_City_Hotel.values})\n",
        "cancellation_data_Resort_Hotel_df = pd.DataFrame({'Month': cancellation_data_Resort_Hotel.index, 'Is_Cancelled': cancellation_data_Resort_Hotel.values})\n",
        "\n",
        "# Set the desired order for the months\n",
        "sort_order = ['January', 'February', 'March', 'April', 'May', 'June', 'July', 'August', 'September', 'October', 'November', 'December']\n",
        "\n",
        "# Set categorical index and sort the DataFrames\n",
        "cancellation_data_City_Hotel_df.index = pd.CategoricalIndex(cancellation_data_City_Hotel_df['Month'], categories=sort_order, ordered=True)\n",
        "cancellation_data_City_Hotel_df = cancellation_data_City_Hotel_df.sort_index().reset_index(drop=True)\n",
        "\n",
        "cancellation_data_Resort_Hotel_df.index = pd.CategoricalIndex(cancellation_data_Resort_Hotel_df['Month'], categories=sort_order, ordered=True)\n",
        "cancellation_data_Resort_Hotel_df = cancellation_data_Resort_Hotel_df.sort_index().reset_index(drop=True)\n",
        "\n",
        "# Plotting the multiline chart\n",
        "plt.plot(cancellation_data_City_Hotel_df['Month'], cancellation_data_City_Hotel_df['Is_Cancelled'])\n",
        "plt.plot(cancellation_data_Resort_Hotel_df['Month'], cancellation_data_Resort_Hotel_df['Is_Cancelled'])\n",
        "\n",
        "# Set title and labels\n",
        "plt.title('Cancellation Rate Over Time')\n",
        "plt.xlabel('Month')\n",
        "plt.ylabel('Number of Cancellations')\n",
        "\n",
        "# Rotate x-axis labels for better visibility\n",
        "plt.xticks(rotation=90)\n",
        "\n",
        "# Add legend and grid\n",
        "plt.legend(['City Hotel', 'Resort Hotel'])\n",
        "plt.grid(True)\n",
        "\n",
        "# Show the plot\n",
        "plt.show()\n"
      ],
      "metadata": {
        "id": "GM7a4YP4phqQ"
      },
      "execution_count": null,
      "outputs": []
    },
    {
      "cell_type": "markdown",
      "source": [
        "##### 1. Why did you pick the specific chart?"
      ],
      "metadata": {
        "id": "1M8mcRywphqQ"
      }
    },
    {
      "cell_type": "markdown",
      "source": [
        "To analyse the monthly cancellations being done in both the hotels."
      ],
      "metadata": {
        "id": "8agQvks0phqQ"
      }
    },
    {
      "cell_type": "markdown",
      "source": [
        "##### 2. What is/are the insight(s) found from the chart?"
      ],
      "metadata": {
        "id": "tgIPom80phqQ"
      }
    },
    {
      "cell_type": "markdown",
      "source": [
        "There are many cancellations made in the month on August as there are more bookings in this month due to vacation period"
      ],
      "metadata": {
        "id": "Qp13pnNzphqQ"
      }
    },
    {
      "cell_type": "markdown",
      "source": [
        "## ***Other Key Visualizations***"
      ],
      "metadata": {
        "id": "NxGrm6MzNDbA"
      }
    },
    {
      "cell_type": "markdown",
      "source": [
        "#### Chart - 11 - Length of Stay vs ADR (Scatter Plot)"
      ],
      "metadata": {
        "id": "OH-pJp9IphqM"
      }
    },
    {
      "cell_type": "code",
      "source": [
        "# Chart - 6 visualization code\n",
        "# Filter out extreme ADR values for better visualization\n",
        "hoteldf = hoteldf[hoteldf['adr'] < 5000]\n",
        "\n",
        "# Create a scatter plot between total cost (ADR) and length of stay\n",
        "plt.figure(figsize=(12, 6))\n",
        "sns.scatterplot(y='adr', x='Total_stays_in_nights', hue='meal', data=hoteldf)\n",
        "\n",
        "# Set labels and title\n",
        "plt.xlabel('Length of Stay')\n",
        "plt.ylabel('ADR (Average Daily Rate)')\n",
        "plt.title('Length of Stay vs ADR')\n",
        "\n",
        "# Show the plot\n",
        "plt.show()"
      ],
      "metadata": {
        "id": "kuRf4wtuphqN"
      },
      "execution_count": null,
      "outputs": []
    },
    {
      "cell_type": "markdown",
      "source": [
        "##### 1. Why did you pick the specific chart?"
      ],
      "metadata": {
        "id": "bbFf2-_FphqN"
      }
    },
    {
      "cell_type": "markdown",
      "source": [
        "Scatter plots are effective for visualizing relationships between two continuous variables, making it suitable for understanding the interaction between the length of stay and ADR.The color differentiation based on meal type allows for the identification of any patterns or trends related to meal choices. This adds an additional layer of information to the plot, helping to discern whether certain meal types are associated with specific booking characteristics."
      ],
      "metadata": {
        "id": "loh7H2nzphqN"
      }
    },
    {
      "cell_type": "markdown",
      "source": [
        "##### 2. What is/are the insight(s) found from the chart?"
      ],
      "metadata": {
        "id": "_ouA3fa0phqN"
      }
    },
    {
      "cell_type": "markdown",
      "source": [
        "In most of the cases, ADR decreases as Length of the stay increases.\n",
        "Most of the customers are opting for meal type BB(Bed and Breakfast)."
      ],
      "metadata": {
        "id": "VECbqPI7phqN"
      }
    },
    {
      "cell_type": "markdown",
      "source": [
        "##### 3. Will the gained insights help creating a positive business impact?\n",
        "Are there any insights that lead to negative growth? Justify with specific reason."
      ],
      "metadata": {
        "id": "Seke61FWphqN"
      }
    },
    {
      "cell_type": "markdown",
      "source": [
        "The gained insights create a negative business impact as most of the customers are opting for only breakfast even if they are staying for more days.There are very few guests who are opting for Full Board Meal plan and some guests who are staying for more weeks are opting Self Catering which will impact the business.\n",
        "The hotel can tailor promotions to attract guests interested in specific meal plans, potentially increasing bookings.Identifying popular meal choices and adjusting services accordingly can enhance guest satisfaction. Offering packages that align with guest preferences may lead to positive reviews and repeat business.\n",
        " The hotel can adjust prices based on guest preferences, leading to increased revenue."
      ],
      "metadata": {
        "id": "DW4_bGpfphqN"
      }
    },
    {
      "cell_type": "markdown",
      "source": [
        "#### Chart - 12 - Correlation HeatMap"
      ],
      "metadata": {
        "id": "YJ55k-q6phqO"
      }
    },
    {
      "cell_type": "code",
      "source": [
        "# Chart - 9 visualization code\n",
        "# Select relevant numerical variables for correlation analysis\n",
        "corr_df = hoteldf[['lead_time', 'previous_cancellations', 'previous_bookings_not_canceled', 'Guests',\n",
        "                   'booking_changes', 'days_in_waiting_list', 'adr', 'required_car_parking_spaces',\n",
        "                   'total_of_special_requests', 'Total_stays_in_nights', 'Revenue']].corr()\n",
        "\n",
        "# Create a heatmap to visualize the correlation matrix\n",
        "fig, ax = plt.subplots(figsize=(12, 12))\n",
        "sns.heatmap(corr_df, annot=True, fmt='.2f', annot_kws={'size': 10}, vmax=1, square=True, cmap=\"GnBu\")\n",
        "\n",
        "# Set title and show the plot\n",
        "plt.title('Correlation Matrix of Selected Variables')\n",
        "plt.show()\n"
      ],
      "metadata": {
        "id": "B2aS4O1ophqO"
      },
      "execution_count": null,
      "outputs": []
    },
    {
      "cell_type": "markdown",
      "source": [
        "##### 1. Why did you pick the specific chart?"
      ],
      "metadata": {
        "id": "gCFgpxoyphqP"
      }
    },
    {
      "cell_type": "markdown",
      "source": [
        "To comprehend the relationships among various numerical quantities"
      ],
      "metadata": {
        "id": "TVxDimi2phqP"
      }
    },
    {
      "cell_type": "markdown",
      "source": [
        "##### 2. What is/are the insight(s) found from the chart?"
      ],
      "metadata": {
        "id": "OVtJsKN_phqQ"
      }
    },
    {
      "cell_type": "markdown",
      "source": [
        "The axis's highest correlation is 74% positive and it's lowest correlation is 9% negative. The number of total days stayed and Revenue are highly correlated.\n",
        "The Number of Guests and ADR are also highly correlated which implies that as the number guests increases, the Average daily rate increases."
      ],
      "metadata": {
        "id": "ngGi97qjphqQ"
      }
    },
    {
      "cell_type": "markdown",
      "source": [
        "##### 3. Will the gained insights help creating a positive business impact?\n",
        "Are there any insights that lead to negative growth? Justify with specific reason."
      ],
      "metadata": {
        "id": "lssrdh5qphqQ"
      }
    },
    {
      "cell_type": "markdown",
      "source": [
        "while the correlation between the number of guests and the average daily rate offers opportunities for revenue optimization and targeted strategies, potential negative impacts may arise if the hotel does not adapt to changing market conditions, economic factors, or customer preferences. Strategic flexibility, a keen understanding of market dynamics, and continuous adaptation to evolving trends are essential for long-term positive business impact."
      ],
      "metadata": {
        "id": "tBpY5ekJphqQ"
      }
    },
    {
      "cell_type": "markdown",
      "source": [
        "#### Chart - 13 - Distribution of Lead Times for Bookings by Market Segment ( Histogram )"
      ],
      "metadata": {
        "id": "x-EpHcCOp1ci"
      }
    },
    {
      "cell_type": "code",
      "source": [
        "# Chart - 11 visualization code\n",
        "# Filter out rows where ADR is zero or negative (assuming these are invalid entries)\n",
        "filtered_hoteldf = hoteldf[hoteldf['adr'] > 0]\n",
        "\n",
        "# Get unique market segments\n",
        "market_segments = filtered_hoteldf['market_segment'].unique()\n",
        "\n",
        "# Create histograms for lead time for each market segment\n",
        "plt.figure(figsize=(20, 12))\n",
        "plt.subplots_adjust(left=0.1,\n",
        "                    bottom=0.1,\n",
        "                    right=0.9,\n",
        "                    top=0.9,\n",
        "                    wspace=0.4,\n",
        "                    hspace=0.4)\n",
        "\n",
        "# Iterate over each market segment and create a subplot\n",
        "for index, market_segment in enumerate(market_segments, 1):\n",
        "    # Filter data for the current market segment\n",
        "    room_data = filtered_hoteldf[filtered_hoteldf['market_segment'] == market_segment]\n",
        "\n",
        "    # Create a subplot\n",
        "    plt.subplot(4, 2, index)\n",
        "\n",
        "    # Plot a histogram for lead time\n",
        "    plt.hist(room_data['lead_time'], bins=20, alpha=0.5, label=market_segment)\n",
        "\n",
        "    # Set labels and title for the subplot\n",
        "    plt.xlabel('Lead Time (Days)')\n",
        "    plt.ylabel('Frequency')\n",
        "    plt.title(market_segment)\n",
        "\n",
        "# Set a common title for all subplots\n",
        "plt.suptitle('Distribution of Lead Times for Bookings by Market Segment')\n",
        "\n",
        "# Show the plot\n",
        "plt.show()"
      ],
      "metadata": {
        "id": "mAQTIvtqp1cj"
      },
      "execution_count": null,
      "outputs": []
    },
    {
      "cell_type": "markdown",
      "source": [
        "##### 1. Why did you pick the specific chart?"
      ],
      "metadata": {
        "id": "X_VqEhTip1ck"
      }
    },
    {
      "cell_type": "markdown",
      "source": [
        "The histogram chart provides a visual representation of lead time distributions for each market segment, offering actionable insights into planning behaviors."
      ],
      "metadata": {
        "id": "-vsMzt_np1ck"
      }
    },
    {
      "cell_type": "markdown",
      "source": [
        "##### 2. What is/are the insight(s) found from the chart?"
      ],
      "metadata": {
        "id": "8zGJKyg5p1ck"
      }
    },
    {
      "cell_type": "markdown",
      "source": [
        "The plot of every market segment is almost similar. Most of the guests are booking rooms with less lead time that is just before the arrival."
      ],
      "metadata": {
        "id": "ZYdMsrqVp1ck"
      }
    },
    {
      "cell_type": "markdown",
      "source": [
        "##### 3. Will the gained insights help creating a positive business impact?\n",
        "Are there any insights that lead to negative growth? Justify with specific reason."
      ],
      "metadata": {
        "id": "PVzmfK_Ep1ck"
      }
    },
    {
      "cell_type": "markdown",
      "source": [
        "he gained insight that most customers have shorter lead times can have both positive and potentially negative impacts on a hotel's business.\n",
        "\n",
        "**Positive:**\n",
        "The hotel can implement dynamic pricing strategies that cater to customers with shorter lead times. This can involve adjusting room rates based on real-time demand, optimizing revenue during periods of high demand, and maximizing occupancy.\n",
        "\n",
        "**Negative:**\n",
        "Short lead times may limit the hotel's ability to plan and allocate resources effectively. Advance planning for staffing, inventory management, and marketing campaigns becomes more challenging when a significant portion of bookings occurs closer to the arrival date."
      ],
      "metadata": {
        "id": "druuKYZpp1ck"
      }
    },
    {
      "cell_type": "markdown",
      "source": [
        "#### Chart - 14 - Pair Plot"
      ],
      "metadata": {
        "id": "n3dbpmDWp1ck"
      }
    },
    {
      "cell_type": "code",
      "source": [
        "# Chart - 12 visualization code\n",
        "\n",
        "# Select relevant numerical variables for the pair plot\n",
        "selected_variables = ['lead_time', 'stays_in_weekend_nights', 'stays_in_week_nights', 'adults', 'children', 'babies', 'adr', 'total_of_special_requests']\n",
        "\n",
        "# Create a pair plot using seaborn\n",
        "sns.pairplot(hoteldf[selected_variables])\n",
        "\n",
        "# Set the title for the pair plot\n",
        "plt.suptitle('Pair Plot for Hotel Booking Analysis', y=1.02)\n",
        "\n",
        "# Show the plot\n",
        "plt.show()"
      ],
      "metadata": {
        "id": "bwevp1tKp1ck"
      },
      "execution_count": null,
      "outputs": []
    },
    {
      "cell_type": "markdown",
      "source": [],
      "metadata": {
        "id": "riREWAUADBaS"
      }
    },
    {
      "cell_type": "markdown",
      "source": [
        "##### 1. Why did you pick the specific chart?"
      ],
      "metadata": {
        "id": "ylSl6qgtp1ck"
      }
    },
    {
      "cell_type": "markdown",
      "source": [
        "A pair plot could include relevant numerical variables to explore potential correlations and patterns."
      ],
      "metadata": {
        "id": "m2xqNkiQp1ck"
      }
    },
    {
      "cell_type": "markdown",
      "source": [
        "##### 2. What is/are the insight(s) found from the chart?"
      ],
      "metadata": {
        "id": "ZWILFDl5p1ck"
      }
    },
    {
      "cell_type": "markdown",
      "source": [
        "\n",
        "This pair plot allows you to visually explore relationships and distributions between these variables. Each scatterplot in the grid represents the relationship between two variables, while histograms on the diagonal show the distribution of each individual variable.\n",
        "\n",
        "Some key insights found are:\n",
        "1. The Guests who are willing to book the hotel for few days are having more lead time which means that the gap between arrival date and booked date is more and vice versa.\n",
        "\n",
        "2. The ADR decreasing as the number of days stayed are increasing and vice versa.\n",
        "\n",
        "3. Groups of small sizes are having more special requests."
      ],
      "metadata": {
        "id": "x-lUsV2mp1ck"
      }
    },
    {
      "cell_type": "markdown",
      "source": [
        "## **5. Solution to Business Objective**"
      ],
      "metadata": {
        "id": "JcMwzZxoAimU"
      }
    },
    {
      "cell_type": "markdown",
      "source": [
        "#### What do you suggest the client to achieve Business Objective ?\n",
        "\n",
        "\n"
      ],
      "metadata": {
        "id": "8G2x9gOozGDZ"
      }
    },
    {
      "cell_type": "markdown",
      "source": [
        "**Revenue Optimization:**\n",
        "Implement dynamic pricing strategies based on demand patterns, seasonal trends, and historical booking data to maximize revenue during peak periods.\n",
        "\n",
        "**Occupancy Management:**\n",
        "Utilize booking patterns to optimize room inventory management, prevent overbooking, and enhance overall occupancy rates. Implement strategies to balance demand across different room types.\n",
        "\n",
        "**Customer Segmentation and Personalization:**\n",
        "Segment customers based on booking behavior, demographics, and preferences. Tailor marketing campaigns and services to meet the unique needs of different customer segments.\n",
        "\n",
        "**Marketing Effectiveness:**\n",
        "Evaluate the effectiveness of marketing campaigns by analyzing booking data. Identify successful campaigns and channels that drive bookings. Optimize marketing strategies based on customer acquisition costs and conversion rates.\n",
        "\n",
        "**Cancellation Management:**\n",
        "Analyze factors influencing cancellations (e.g., lead time, pricing, room types) to develop strategies for minimizing cancellations. Adjust cancellation policies based on insights.\n",
        "\n",
        "**Forecasting and Planning:**\n",
        "Use historical booking data to create accurate forecasts for future demand. Enhance planning for staffing, inventory, and overall resource management.\n",
        "\n",
        "**Customer Loyalty Programs:**\n",
        "Analyze repeat bookings and customer loyalty trends. Optimize and personalize loyalty programs based on customer preferences and behaviors to enhance guest retention."
      ],
      "metadata": {
        "id": "pASKb0qOza21"
      }
    },
    {
      "cell_type": "markdown",
      "source": [
        "# **Conclusion**"
      ],
      "metadata": {
        "id": "gCX9965dhzqZ"
      }
    },
    {
      "cell_type": "markdown",
      "source": [
        "To summarize, Hotel Booking Analysis using Exploratory Data Analysis (EDA) gives important insights into booking patterns, visitor habits, and operational trends in the hospitality business. EDA enables hotels to discover significant trends, identify critical factors driving reservations, and make data-driven choices that optimize revenue, improve guest experiences, and streamline operations. Hotel management acquires a thorough grasp of their business landscape by analyzing characteristics such as lead time, booking channels, client demographics, and seasonality. EDA provides actionable information that allow hotels to adjust to market dynamics, modify services to guest preferences, and strategically position themselves for success in a competitive context."
      ],
      "metadata": {
        "id": "Fjb1IsQkh3yE"
      }
    },
    {
      "cell_type": "markdown",
      "source": [
        "### ***Hurrah! You have successfully completed your EDA Capstone Project !!!***"
      ],
      "metadata": {
        "id": "gIfDvo9L0UH2"
      }
    }
  ]
}